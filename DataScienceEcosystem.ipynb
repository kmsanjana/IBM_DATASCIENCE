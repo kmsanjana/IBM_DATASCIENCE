{
 "cells": [
  {
   "cell_type": "markdown",
   "id": "f91612c3",
   "metadata": {},
   "source": [
    "# Data Science Tools and Ecosystem\n"
   ]
  },
  {
   "cell_type": "markdown",
   "id": "dca4d304",
   "metadata": {},
   "source": [
    "In this notebook, DataScience Tools and Ecosystem are summarized\n"
   ]
  },
  {
   "cell_type": "markdown",
   "id": "22031c29",
   "metadata": {},
   "source": [
    "**Objectives:** \n",
    "* list popular languages used by data scientists\n",
    "* list libraries used in data science\n",
    "* list tools used by data scientists\n",
    "* examples of arithmetic operations"
   ]
  },
  {
   "cell_type": "markdown",
   "id": "996293c4",
   "metadata": {},
   "source": [
    "**Some of the popular languages that data scientists use are**\n",
    "\n",
    "1. Python\n",
    "2. R\n",
    "3. SQL\n",
    "4. Julia\n",
    "5. Scala\n"
   ]
  },
  {
   "cell_type": "markdown",
   "id": "fe1850a8",
   "metadata": {},
   "source": [
    "**Some of the commonly used libraries used by data scientists include:**\n",
    "\n",
    "1. Pandas\n",
    "2. NumPy\n",
    "3. SciPy\n",
    "4. Scikit-learn\n",
    "5. TensorFlow\n",
    "6. Keras\n",
    "7. PyTorch\n",
    "8. Matplotlib\n",
    "9. Seaborn"
   ]
  },
  {
   "cell_type": "markdown",
   "id": "7a53cc58",
   "metadata": {},
   "source": [
    "\n",
    "**Some of the tools used by data scientists include:**\n",
    "\n",
    "| Data Science Tools |\n",
    "|--------------------|\n",
    "| Jupyter Notebook   |\n",
    "| RStudio            |\n",
    "| Apache Spark       |"
   ]
  },
  {
   "cell_type": "markdown",
   "id": "6f49dc71",
   "metadata": {},
   "source": [
    "### Below are few examples of evaluating arithmetic expressions in Python"
   ]
  },
  {
   "cell_type": "code",
   "execution_count": 1,
   "id": "9d8dda19",
   "metadata": {},
   "outputs": [
    {
     "data": {
      "text/plain": [
       "17"
      ]
     },
     "execution_count": 1,
     "metadata": {},
     "output_type": "execute_result"
    }
   ],
   "source": [
    "# this is a simple arithmetic expression to multiply then add integers\n",
    "(3*4)+5"
   ]
  },
  {
   "cell_type": "code",
   "execution_count": 2,
   "id": "a068dcb8",
   "metadata": {},
   "outputs": [
    {
     "data": {
      "text/plain": [
       "3.3333333333333335"
      ]
     },
     "execution_count": 2,
     "metadata": {},
     "output_type": "execute_result"
    }
   ],
   "source": [
    "# this will convert 200 minutes to hours by dividing by 60\n",
    "minutes= 200\n",
    "hours= minutes/60\n",
    "hours"
   ]
  },
  {
   "cell_type": "markdown",
   "id": "80555729",
   "metadata": {},
   "source": [
    "## Author\n",
    "Sanjana"
   ]
  },
  {
   "cell_type": "code",
   "execution_count": null,
   "id": "ce816322",
   "metadata": {},
   "outputs": [],
   "source": []
  }
 ],
 "metadata": {
  "kernelspec": {
   "display_name": "Python 3 (ipykernel)",
   "language": "python",
   "name": "python3"
  },
  "language_info": {
   "codemirror_mode": {
    "name": "ipython",
    "version": 3
   },
   "file_extension": ".py",
   "mimetype": "text/x-python",
   "name": "python",
   "nbconvert_exporter": "python",
   "pygments_lexer": "ipython3",
   "version": "3.9.7"
  }
 },
 "nbformat": 4,
 "nbformat_minor": 5
}
